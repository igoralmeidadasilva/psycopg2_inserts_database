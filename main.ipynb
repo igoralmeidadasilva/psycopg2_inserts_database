{
 "cells": [
  {
   "cell_type": "code",
   "execution_count": 2,
   "metadata": {},
   "outputs": [],
   "source": [
    "# Imports\n",
    "import random\n",
    "import string\n",
    "from br_nome_gen import pessoa_random\n",
    "from psycopg2 import connect"
   ]
  },
  {
   "cell_type": "code",
   "execution_count": 3,
   "metadata": {},
   "outputs": [],
   "source": [
    "# Criação da classe de conexão com o banco de dados\n",
    "class ConnectDB:\n",
    "\n",
    "    def __init__(self):\n",
    "\n",
    "        self.con = connect(\n",
    "            user='postgres',\n",
    "            password='root123',\n",
    "            host='localhost',\n",
    "            port='5432',\n",
    "            dbname='bd_Nubank_Cripto',\n",
    "        )\n",
    "        self.cur = self.con.cursor()\n",
    "\n",
    "    def insert_row(self, data):\n",
    "        \"\"\"Adiciona uma nova linha na tabela.\n",
    "\n",
    "        :param data: (tuple) Tupla contendo os dados.\n",
    "        \"\"\"\n",
    "        query = '''INSERT INTO cliente\n",
    "        (cpf_cliente, nome_cliente, data_nascimento, contato_celular, email) \n",
    "        VALUES (%s, %s, %s, %s, %s);'''\n",
    "        try:\n",
    "            self.cur.execute(query, data)\n",
    "        except Exception as e:\n",
    "            # rollback reverte/desfaz a operação.\n",
    "            self.con.rollback()\n",
    "            # print('\\n[x] Falha ao inserir registro [x]')\n",
    "            # print(f'[x] Revertendo operação (rollback) [x]: {e}\\n')\n",
    "        else:\n",
    "            self.con.commit()\n",
    "            # print('\\n[!] Registro inserido com sucesso [!]')"
   ]
  },
  {
   "cell_type": "code",
   "execution_count": 4,
   "metadata": {},
   "outputs": [],
   "source": [
    "# função geradora de cpf\n",
    "def gerador_cpf():\n",
    "    retorno = \"\"\n",
    "    for item in range(11):\n",
    "        x = random.choice(string.digits);\n",
    "        retorno += x\n",
    "    return retorno"
   ]
  },
  {
   "cell_type": "code",
   "execution_count": 5,
   "metadata": {},
   "outputs": [],
   "source": [
    "# Função geradora de nome e emails\n",
    "# a geração desses 2 campos juntas foi necessaria para facilitar a criação do 'email' com o mesmo nome randomico presente no campo 'nome'\n",
    "# por isso este metodo retorna um dicionario com 2 chaves (nome, email) \n",
    "def gerador_nome_email():\n",
    "    pessoa = pessoa_random()\n",
    "    email = f\"{pessoa.nome.split(' ')[0]}@gmail.com\"\n",
    "    retorno = {'nome':pessoa.nome, 'email':email}\n",
    "    return retorno"
   ]
  },
  {
   "cell_type": "code",
   "execution_count": 6,
   "metadata": {},
   "outputs": [],
   "source": [
    "def gerador_data_nascimento():\n",
    "    ano = random.randint(1950, 2007)\n",
    "    mes = random.randint(1, 12)\n",
    "\n",
    "    if mes == 1 or mes == 3 or mes == 5 or mes == 7 or mes == 8 or mes == 10 or mes == 12:\n",
    "        dia = random.randint(1, 31)\n",
    "    elif mes == 4 or mes == 6 or mes == 9 or mes == 11:\n",
    "        dia = random.randint(1, 30)\n",
    "    elif mes == 2:\n",
    "        dia = random.randint(1, 28)\n",
    "    return f\"{ano}-{mes}-{dia}\""
   ]
  },
  {
   "cell_type": "code",
   "execution_count": 26,
   "metadata": {},
   "outputs": [],
   "source": [
    "def gerador_celular():\n",
    "    inicio = '99'\n",
    "    resto = \"\"\n",
    "    for item in range(7):\n",
    "        x = random.choice(string.digits);\n",
    "        resto += x\n",
    "    return f\"{inicio}{resto}\"\n",
    "    "
   ]
  },
  {
   "cell_type": "code",
   "execution_count": null,
   "metadata": {},
   "outputs": [],
   "source": [
    "# Criando a conexão com o banco.\n",
    "database = ConnectDB()\n",
    "\n",
    "QTD_REGISTROS = 1000000\n",
    "for item in range (QTD_REGISTROS):\n",
    "    # Criando o registro para a inserção\n",
    "    nome_e_email = gerador_nome_email()\n",
    "    user = (gerador_cpf(), nome_e_email['nome'], gerador_data_nascimento(), gerador_celular(), nome_e_email['email'])\n",
    "    # Inserindo um registro tabela.\n",
    "    database.insert_row(data=user)\n",
    "\n",
    "# Fechando conexão com o banco.\n",
    "database.con.close()"
   ]
  }
 ],
 "metadata": {
  "kernelspec": {
   "display_name": "Python 3",
   "language": "python",
   "name": "python3"
  },
  "language_info": {
   "codemirror_mode": {
    "name": "ipython",
    "version": 3
   },
   "file_extension": ".py",
   "mimetype": "text/x-python",
   "name": "python",
   "nbconvert_exporter": "python",
   "pygments_lexer": "ipython3",
   "version": "3.11.0"
  },
  "orig_nbformat": 4
 },
 "nbformat": 4,
 "nbformat_minor": 2
}
