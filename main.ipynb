{
 "cells": [
  {
   "cell_type": "code",
   "execution_count": 86,
   "metadata": {},
   "outputs": [],
   "source": [
    "# Imports\n",
    "import random\n",
    "import string\n",
    "from br_nome_gen import pessoa_random\n",
    "from psycopg2 import connect\n",
    "import time"
   ]
  },
  {
   "cell_type": "code",
   "execution_count": 104,
   "metadata": {},
   "outputs": [],
   "source": [
    "# Criação da classe de conexão com o banco de dados\n",
    "class ConnectDB:\n",
    "\n",
    "    def __init__(self):\n",
    "\n",
    "        self.con = connect(\n",
    "            user='postgres',\n",
    "            password='root123',\n",
    "            host='localhost',\n",
    "            port='5432',\n",
    "            dbname='bd_Nubank_Cripto',\n",
    "        )\n",
    "        self.cur = self.con.cursor()\n",
    "\n",
    "    def lista_cpf(self):\n",
    "        query = 'SELECT cpf_cliente FROM cliente;'\n",
    "        try:\n",
    "            self.cur.execute(query)\n",
    "        except Exception as e:\n",
    "            self.con.rollback()\n",
    "            print(\"Failed\")\n",
    "        else:\n",
    "            self.con.commit()\n",
    "            print(\"Sucess\")\n",
    "        return self.cur.fetchall()\n",
    "\n",
    "    def count_clientes(self):\n",
    "        query = 'SELECT COUNT(*) FROM cliente;'\n",
    "        self.cur.execute(query)\n",
    "        return self.cur.fetchone()[0]\n",
    "\n",
    "    def insert_clientes(self, data):\n",
    "        query = '''INSERT INTO cliente\n",
    "        (cpf_cliente, nome_cliente, data_nascimento, contato_celular, email) \n",
    "        VALUES (%s, %s, %s, %s, %s);'''\n",
    "        try:\n",
    "            self.cur.execute(query, data)\n",
    "        except Exception as e:\n",
    "            self.con.rollback()\n",
    "            #print(\"Failed\")\n",
    "        else:\n",
    "            self.con.commit()\n",
    "            # print(\"Success\")\n",
    "\n",
    "    def insert_wallet(self, data):\n",
    "        query = '''INSERT INTO wallet \n",
    "            (saldo_wallet, cpf_cliente)\n",
    "            VALUES(%s, %s); '''\n",
    "        try:\n",
    "            self.cur.execute(query, data)\n",
    "        except Exception as e:\n",
    "            self.con.rollback()\n",
    "            #print(\"Failed\")\n",
    "        else:\n",
    "            self.con.commit()\n",
    "            # print(\"Success\")\n",
    "\n",
    "    def insert_trade(self, data):\n",
    "        query = '''INSERT INTO trade\n",
    "\t            (hash_id, tipo_movimentacao, data_trade, hora_trade)\n",
    "\t            VALUES (%s, %s, %s, %s);'''\n",
    "        try:\n",
    "            self.cur.execute(query, data)\n",
    "        except Exception as e:\n",
    "            self.con.rollback()\n",
    "            #print(\"Failed\")\n",
    "        else:\n",
    "            self.con.commit()\n",
    "            #print(\"Success\")\n",
    "\n",
    "    def insert_criptomoeda(self, data):\n",
    "        query = ''' INSERT INTO criptomoeda\n",
    "\t            (nome_cripto, sigla_cripto, valor_atual)\n",
    "\t            VALUES (%s, %s, %s);'''\n",
    "        try:\n",
    "            self.cur.execute(query, data)\n",
    "        except Exception as e:\n",
    "            self.con.rollback()\n",
    "            #print(\"Failed\")\n",
    "        else:\n",
    "            self.con.commit()\n",
    "            #print(\"Success\")\n"
   ]
  },
  {
   "attachments": {},
   "cell_type": "markdown",
   "metadata": {},
   "source": [
    "### Gerando registros para a tabela Cliente"
   ]
  },
  {
   "cell_type": "code",
   "execution_count": 5,
   "metadata": {},
   "outputs": [],
   "source": [
    "# função geradora de cpf\n",
    "def gerador_cpf():\n",
    "    retorno = \"\"\n",
    "    for item in range(11):\n",
    "        x = random.choice(string.digits);\n",
    "        retorno += x\n",
    "    return retorno"
   ]
  },
  {
   "cell_type": "code",
   "execution_count": 6,
   "metadata": {},
   "outputs": [],
   "source": [
    "# Função geradora de nome e emails\n",
    "# a geração desses 2 campos juntas foi necessaria para facilitar a criação do 'email' com o mesmo nome randomico presente no campo 'nome'\n",
    "# por isso este metodo retorna um dicionario com 2 chaves (nome, email) \n",
    "def gerador_nome_email():\n",
    "    pessoa = pessoa_random()\n",
    "    email = f\"{pessoa.nome.split(' ')[0]}@gmail.com\"\n",
    "    retorno = {'nome':pessoa.nome, 'email':email}\n",
    "    return retorno"
   ]
  },
  {
   "cell_type": "code",
   "execution_count": 7,
   "metadata": {},
   "outputs": [],
   "source": [
    "def gerador_data_nascimento():\n",
    "    ano = random.randint(1950, 2007)\n",
    "    mes = random.randint(1, 12)\n",
    "\n",
    "    if mes == 1 or mes == 3 or mes == 5 or mes == 7 or mes == 8 or mes == 10 or mes == 12:\n",
    "        dia = random.randint(1, 31)\n",
    "    elif mes == 4 or mes == 6 or mes == 9 or mes == 11:\n",
    "        dia = random.randint(1, 30)\n",
    "    elif mes == 2:\n",
    "        dia = random.randint(1, 28)\n",
    "    return f\"{ano}-{mes}-{dia}\""
   ]
  },
  {
   "cell_type": "code",
   "execution_count": 8,
   "metadata": {},
   "outputs": [],
   "source": [
    "def gerador_celular():\n",
    "    inicio = '99'\n",
    "    resto = \"\"\n",
    "    for item in range(7):\n",
    "        x = random.choice(string.digits);\n",
    "        resto += x\n",
    "    return f\"{inicio}{resto}\"\n",
    "    "
   ]
  },
  {
   "cell_type": "code",
   "execution_count": 9,
   "metadata": {},
   "outputs": [],
   "source": [
    "# Criando a conexão com o banco.\n",
    "database = ConnectDB()\n",
    "# Alterar a quantidade de repetições\n",
    "QTD_REGISTROS = 0\n",
    "for item in range (QTD_REGISTROS):\n",
    "    # Criando o registro para a inserção\n",
    "    nome_e_email = gerador_nome_email()\n",
    "    user = (gerador_cpf(), nome_e_email['nome'], gerador_data_nascimento(), gerador_celular(), nome_e_email['email'])\n",
    "    # Inserindo um registro tabela.\n",
    "    database.insert_clientes(data=user)\n",
    "\n",
    "# Fechando conexão com o banco.\n",
    "database.con.close()"
   ]
  },
  {
   "attachments": {},
   "cell_type": "markdown",
   "metadata": {},
   "source": [
    "### Gerando registros para a tabela Wallet"
   ]
  },
  {
   "cell_type": "code",
   "execution_count": 33,
   "metadata": {},
   "outputs": [
    {
     "name": "stdout",
     "output_type": "stream",
     "text": [
      "Sucess\n"
     ]
    }
   ],
   "source": [
    "database = ConnectDB()\n",
    "cpfs_clientes = database.lista_cpf()\n",
    "database.con.close()"
   ]
  },
  {
   "cell_type": "code",
   "execution_count": 60,
   "metadata": {},
   "outputs": [],
   "source": [
    "database = ConnectDB()\n",
    "QTD_REGISTROS = 999995\n",
    "for i in range (QTD_REGISTROS):\n",
    "    cpf_escolhido = random.choice(cpfs_clientes)\n",
    "    saldo = float(random.randint(1, 1000000))\n",
    "    wallet = (saldo, cpf_escolhido)\n",
    "    database.insert_wallet(data=wallet)\n",
    "database.con.close()"
   ]
  },
  {
   "attachments": {},
   "cell_type": "markdown",
   "metadata": {},
   "source": [
    "### Gerando registros para a tabela Trade"
   ]
  },
  {
   "cell_type": "code",
   "execution_count": 95,
   "metadata": {},
   "outputs": [],
   "source": [
    "def gerador_hash_id():\n",
    "    hash_id = \"\"\n",
    "    for item in range(65):\n",
    "        x = random.choice(string.ascii_uppercase + string.digits)\n",
    "        hash_id += x\n",
    "    return hash_id\n",
    "\n",
    "def gerador_movimentacao():\n",
    "    tipo = (\"Debito\", \"Credito\")\n",
    "    retorno = random.choice(tipo)\n",
    "    return retorno\n",
    "\n",
    "def gerador_data():\n",
    "        ano = random.randint(2023, 2023)\n",
    "        mes = random.randint(1, 12)\n",
    "\n",
    "        if mes == 1 or mes == 3 or mes == 5 or mes == 7 or mes == 8 or mes == 10 or mes == 12:\n",
    "            dia = random.randint(1, 31)\n",
    "        elif mes == 4 or mes == 6 or mes == 9 or mes == 11:\n",
    "            dia = random.randint(1, 30)\n",
    "        elif mes == 2:\n",
    "            dia = random.randint(1, 28)\n",
    "        return f\"{ano}-{mes}-{dia}\"\n",
    "  \n",
    "def gerador_hora():\n",
    "    hora = random.randint(0, 23)\n",
    "    minuto = random.randint(1, 59)\n",
    "    segundo = random.randint(1, 60)\n",
    "    return f\"{hora}:{minuto}:{segundo}\""
   ]
  },
  {
   "cell_type": "code",
   "execution_count": 97,
   "metadata": {},
   "outputs": [],
   "source": [
    "# Criando a conexão com o banco.\n",
    "database = ConnectDB()\n",
    "# Alterar a quantidade de repetições\n",
    "QTD_REGISTROS = 400000\n",
    "for item in range (QTD_REGISTROS):\n",
    "    # Criando o registro para a inserção\n",
    "    trade = (gerador_hash_id(), gerador_movimentacao(), gerador_data(), gerador_hora())\n",
    "    # Inserindo um registro tabela.\n",
    "    database.insert_trade(data=trade)\n",
    "\n",
    "# Fechando conexão com o banco.\n",
    "database.con.close()"
   ]
  },
  {
   "attachments": {},
   "cell_type": "markdown",
   "metadata": {},
   "source": [
    "### Gerando registros para a tabela Criptomoeda"
   ]
  },
  {
   "cell_type": "code",
   "execution_count": 111,
   "metadata": {},
   "outputs": [],
   "source": [
    "criptos =  [\n",
    "            {'nome_cripto':'Bitcoin', 'sigla_cripto':'BTC', 'valor_atual':137884.01},\n",
    "            {'nome_cripto':'Ethereum', 'sigla_cripto':'ETH', 'valor_atual':8693.45},\n",
    "            {'nome_cripto': 'Ripple', 'sigla_cripto': 'XRP', 'valor_atual': 0.673},\n",
    "            {'nome_cripto': 'Bitcoin Cash', 'sigla_cripto': 'BCH', 'valor_atual': 469.29},\n",
    "            {'nome_cripto': 'Cardano', 'sigla_cripto': 'ADA', 'valor_atual': 1.56},\n",
    "            {'nome_cripto': 'Binance Coin', 'sigla_cripto': 'BNB', 'valor_atual': 342.84},\n",
    "            {'nome_cripto': 'Litecoin', 'sigla_cripto': 'LTC', 'valor_atual': 126.05},\n",
    "            {'nome_cripto': 'Chainlink', 'sigla_cripto': 'LIN', 'valor_atual': 21.35},\n",
    "            {'nome_cripto': 'Polkadot', 'sigla_cripto': 'DOT', 'valor_atual': 17.79},\n",
    "            {'nome_cripto': 'Stellar', 'sigla_cripto': 'XLM', 'valor_atual': 0.276},\n",
    "            {'nome_cripto': 'Dogecoin', 'sigla_cripto': 'DOG', 'valor_atual': 0.202},\n",
    "            {'nome_cripto': 'Uniswap', 'sigla_cripto': 'UNI', 'valor_atual': 21.95},\n",
    "            {'nome_cripto': 'VeChain', 'sigla_cripto': 'VET', 'valor_atual': 0.086},\n",
    "            {'nome_cripto': 'Solana', 'sigla_cripto': 'SOL', 'valor_atual': 43.78},\n",
    "            {'nome_cripto': 'Filecoin', 'sigla_cripto': 'FIL', 'valor_atual': 54.92},\n",
    "            {'nome_cripto': 'Cosmos', 'sigla_cripto': 'ATO', 'valor_atual': 9.71},\n",
    "            {'nome_cripto': 'Monero', 'sigla_cripto': 'XMR', 'valor_atual': 238.76},\n",
    "            {'nome_cripto': 'TRON', 'sigla_cripto': 'TRX', 'valor_atual': 0.056},\n",
    "            {'nome_cripto': 'EOS', 'sigla_cripto': 'EOS', 'valor_atual': 2.80},\n",
    "            {'nome_cripto': 'Neo', 'sigla_cripto': 'NEO', 'valor_atual': 42.05},\n",
    "            {'nome_cripto': 'IOTA', 'sigla_cripto': 'MIO', 'valor_atual': 0.85},\n",
    "            {'nome_cripto': 'Dash', 'sigla_cripto': 'DAS', 'valor_atual': 118.32},\n",
    "            {'nome_cripto': 'Zcash', 'sigla_cripto': 'ZEC', 'valor_atual': 107.45},\n",
    "            ]\n"
   ]
  },
  {
   "cell_type": "code",
   "execution_count": 112,
   "metadata": {},
   "outputs": [],
   "source": [
    "database = ConnectDB()\n",
    "for moeda in criptos:\n",
    "    registro = (moeda['nome_cripto'], moeda['sigla_cripto'], moeda['valor_atual'])\n",
    "    database.insert_criptomoeda(registro)\n",
    "database.con.close()"
   ]
  },
  {
   "attachments": {},
   "cell_type": "markdown",
   "metadata": {},
   "source": [
    "### Gerando registros para a tabela Criptos_na_carteira"
   ]
  },
  {
   "cell_type": "code",
   "execution_count": null,
   "metadata": {},
   "outputs": [],
   "source": [
    "# Escolher randomicamente um cliente\n",
    "# Escolher randomicamente um carteira daquele cliente\n",
    "# Escolher randomicamente uma ou mais criptomoedas para a carteira do cliente\n",
    "# Escolher randomicamente uma quantidade de criptomoedas"
   ]
  }
 ],
 "metadata": {
  "kernelspec": {
   "display_name": "Python 3",
   "language": "python",
   "name": "python3"
  },
  "language_info": {
   "codemirror_mode": {
    "name": "ipython",
    "version": 3
   },
   "file_extension": ".py",
   "mimetype": "text/x-python",
   "name": "python",
   "nbconvert_exporter": "python",
   "pygments_lexer": "ipython3",
   "version": "3.11.0"
  },
  "orig_nbformat": 4
 },
 "nbformat": 4,
 "nbformat_minor": 2
}
